{
 "cells": [
  {
   "cell_type": "code",
   "execution_count": 80,
   "metadata": {
    "collapsed": false
   },
   "outputs": [
    {
     "name": "stdout",
     "output_type": "stream",
     "text": [
      "      Exam 1     Exam 2  Result\n",
      "0  34.623660  78.024693       0\n",
      "1  30.286711  43.894998       0\n",
      "2  35.847409  72.902198       0\n",
      "3  60.182599  86.308552       1\n",
      "4  79.032736  75.344376       1\n"
     ]
    },
    {
     "data": {
      "text/plain": [
       "array([ 0.85,  0.9 ,  0.9 ,  0.9 ,  0.9 ])"
      ]
     },
     "execution_count": 80,
     "metadata": {},
     "output_type": "execute_result"
    }
   ],
   "source": [
    "# Logistic Regression with built-in sklearn tools \n",
    "%matplotlib inline\n",
    "import numpy as np\n",
    "import pandas as pd\n",
    "from sklearn import preprocessing\n",
    "from sklearn.model_selection import train_test_split, cross_val_score\n",
    "from sklearn.linear_model import LogisticRegression\n",
    "\n",
    "data = pd.read_csv(\"ex2data1.txt\", header=None, names=['Exam 1', 'Exam 2', 'Result']) \n",
    "print(data.head())\n",
    "# List of features\n",
    "X = np.array(data.drop(['Result'], 1))\n",
    "X = preprocessing.scale(X)\n",
    "\n",
    "# List of labels \n",
    "y = np.array(data[['Result']])\n",
    "\n",
    "# X_train, X_test, y_train, y_test = train_test_split(X, y, test_size=0.2)\n",
    "clf = LogisticRegression(n_jobs=-1, solver='liblinear')\n",
    "# clf.fit(X_train, y_train.ravel())\n",
    "# accuracy = clf.score(X_test, y_test)\n",
    "\n",
    "cross_val_score(clf, X, y.ravel(), cv= 5)"
   ]
  },
  {
   "cell_type": "code",
   "execution_count": null,
   "metadata": {
    "collapsed": true
   },
   "outputs": [],
   "source": []
  }
 ],
 "metadata": {
  "kernelspec": {
   "display_name": "Python [conda root]",
   "language": "python",
   "name": "conda-root-py"
  },
  "language_info": {
   "codemirror_mode": {
    "name": "ipython",
    "version": 3
   },
   "file_extension": ".py",
   "mimetype": "text/x-python",
   "name": "python",
   "nbconvert_exporter": "python",
   "pygments_lexer": "ipython3",
   "version": "3.5.2"
  }
 },
 "nbformat": 4,
 "nbformat_minor": 1
}
