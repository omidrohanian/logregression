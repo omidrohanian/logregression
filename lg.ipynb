{
 "cells": [
  {
   "cell_type": "markdown",
   "metadata": {},
   "source": [
    "# Logistic Regression\n",
    "\n",
    "Logistic regression, regardless of the name, is a *classification* algorithm and has not much to do with regression. \n",
    "\n",
    "The difference compared with vanilla regression is that, we wrap a sigmoid/logistic function around the hypothesis output from linear regression. This resulting hypothesis function maps the input to a real number between 0 and 1. This value represents the probability that the output is 1. As we are dealing with discrete output values here, in binary logistic regression values greater than 0.5 are taken to belong to label 1 and below 0.5 to label 0. $g(z)$ is our sigmoid function:\n",
    "\n",
    "\\begin{align*}& h_\\theta (x) = g ( \\theta^T x ) \\newline \\newline& z = \\theta^T x \\newline& g(z) = \\dfrac{1}{1 + e^{-z}}\\end{align*}\n",
    "\n",
    "Cost function is also different here. The cost function from linear regression could not be used as it wouldn't have been convex (i.e. ups and downs and no convergence to a single limit point). In its vectorized form, the total cost across the dataset would be computed by:\n",
    "\n",
    "$$\\begin{align*} & h = g(X\\theta)\\newline & J(\\theta) = \\frac{1}{m} \\cdot \\left(-y^{T}\\log(h)-(1-y)^{T}\\log(1-h)\\right) \\end{align*}$$\n",
    "\n",
    "Gradient descent algorithm ends up being similar to before, with this vectorized representation:\n",
    "\n",
    "$$\\theta := \\theta - \\frac{\\alpha}{m} X^{T} (g(X \\theta ) - \\vec{y})$$\n",
    "\n",
    "Note: \"Conjugate gradient\", \"BFGS\", and \"L-BFGS\" are more sophisticated, faster ways to optimize θ that could be used instead of gradient descent."
   ]
  },
  {
   "cell_type": "markdown",
   "metadata": {},
   "source": [
    "In the first exercise we are supposed to build a logistic regression model to predict whether a student gets admitted into a university. 'ex2data1.txt' contains the training set. Each row consists of the applicant’s scores on two exams and the admissions decision (0 or 1). Let's first visalize this:"
   ]
  },
  {
   "cell_type": "code",
   "execution_count": 248,
   "metadata": {
    "collapsed": false
   },
   "outputs": [
    {
     "data": {
      "text/html": [
       "<div>\n",
       "<table border=\"1\" class=\"dataframe\">\n",
       "  <thead>\n",
       "    <tr style=\"text-align: right;\">\n",
       "      <th></th>\n",
       "      <th>Exam 1</th>\n",
       "      <th>Exam 2</th>\n",
       "      <th>Result</th>\n",
       "    </tr>\n",
       "  </thead>\n",
       "  <tbody>\n",
       "    <tr>\n",
       "      <th>0</th>\n",
       "      <td>34.623660</td>\n",
       "      <td>78.024693</td>\n",
       "      <td>0</td>\n",
       "    </tr>\n",
       "    <tr>\n",
       "      <th>1</th>\n",
       "      <td>30.286711</td>\n",
       "      <td>43.894998</td>\n",
       "      <td>0</td>\n",
       "    </tr>\n",
       "    <tr>\n",
       "      <th>2</th>\n",
       "      <td>35.847409</td>\n",
       "      <td>72.902198</td>\n",
       "      <td>0</td>\n",
       "    </tr>\n",
       "    <tr>\n",
       "      <th>3</th>\n",
       "      <td>60.182599</td>\n",
       "      <td>86.308552</td>\n",
       "      <td>1</td>\n",
       "    </tr>\n",
       "    <tr>\n",
       "      <th>4</th>\n",
       "      <td>79.032736</td>\n",
       "      <td>75.344376</td>\n",
       "      <td>1</td>\n",
       "    </tr>\n",
       "  </tbody>\n",
       "</table>\n",
       "</div>"
      ],
      "text/plain": [
       "      Exam 1     Exam 2  Result\n",
       "0  34.623660  78.024693       0\n",
       "1  30.286711  43.894998       0\n",
       "2  35.847409  72.902198       0\n",
       "3  60.182599  86.308552       1\n",
       "4  79.032736  75.344376       1"
      ]
     },
     "execution_count": 248,
     "metadata": {},
     "output_type": "execute_result"
    }
   ],
   "source": [
    "# Logistic Regression \n",
    "%matplotlib inline\n",
    "import numpy as np\n",
    "import pandas as pd  \n",
    "import matplotlib.pyplot as plt\n",
    "plt.style.use('ggplot')\n",
    "\n",
    "# Suppressing warnings \n",
    "# import warnings\n",
    "# warnings.filterwarnings('ignore')\n",
    "\n",
    "data = pd.read_csv(\"ex2data1.txt\", header=None, names=['Exam 1', 'Exam 2', 'Result']) \n",
    "data.head()"
   ]
  },
  {
   "cell_type": "code",
   "execution_count": 249,
   "metadata": {
    "collapsed": false
   },
   "outputs": [],
   "source": [
    "# splitting the dataset based on the result \n",
    "\n",
    "# We use DataFrame.isin() that returns a boolen value based on whether members of our data frame can be found \n",
    "# in a specified list.\n",
    "\n",
    "# Example from Pandas docs:\n",
    "\n",
    "# >>> import pandas as pd\n",
    "# >>> df = pd.DataFrame({'A': [1, 2, 3], 'B': ['a', 'b', 'f']})\n",
    "# >>> df\n",
    "#    A  B\n",
    "# 0  1  a\n",
    "# 1  2  b\n",
    "# 2  3  f\n",
    "# >>> df.isin([1, 3, 12, 'a'])\n",
    "#        A      B\n",
    "# 0   True   True\n",
    "# 1  False  False\n",
    "# 2   True  False\n",
    "# >>> \n",
    "\n",
    "# The output is a boolean series that could be passed to the data frame again. Only those indices that are True will \n",
    "# return values corresponding to their position. For example, in the first example we would have:\n",
    "# >>> df[pd.Series([True, False, True])]\n",
    "#    A  B\n",
    "# 0  1  a\n",
    "# 2  3  f\n",
    "\n",
    "passed = data[data['Result'].isin([1])]  \n",
    "failed = data[data['Result'].isin([0])]  "
   ]
  },
  {
   "cell_type": "code",
   "execution_count": 250,
   "metadata": {
    "collapsed": false,
    "scrolled": false
   },
   "outputs": [
    {
     "data": {
      "text/plain": [
       "<matplotlib.axes._subplots.AxesSubplot at 0x7f78af28da20>"
      ]
     },
     "execution_count": 250,
     "metadata": {},
     "output_type": "execute_result"
    },
    {
     "data": {
      "image/png": "[encoded data removed]",
      "text/plain": [
       "<matplotlib.figure.Figure at 0x7f78af320fd0>"
      ]
     },
     "metadata": {},
     "output_type": "display_data"
    }
   ],
   "source": [
    "ax = failed.plot(kind='scatter', x='Exam 1', y='Exam 2', marker= 'o', \n",
    "      alpha = 0.7, color= 'r', figsize=(7,5), label='Not Admitted', title='Scatter plot of training data')\n",
    "passed.plot(kind='scatter', x='Exam 1', y='Exam 2', marker= 'o', \n",
    "      alpha = 0.7, color= 'b', figsize=(7,5), ax=ax, label='Admitted')"
   ]
  },
  {
   "cell_type": "markdown",
   "metadata": {},
   "source": [
    "As a warm-up exercise, we have to first implement $h_\\theta (x)$. It is uses the logistic function\n",
    "aka the sigmoid function ($g(z)$ mentioned above). $g(z)$ has a simple formula, however here we can use a vectorized built-in version from scipy:"
   ]
  },
  {
   "cell_type": "code",
   "execution_count": 251,
   "metadata": {
    "collapsed": false,
    "scrolled": true
   },
   "outputs": [
    {
     "name": "stdout",
     "output_type": "stream",
     "text": [
      "sigmoid(0) = 0.5, sigmoid(10000) = 1.0, and sigmoid(-10000) = 0.0\n"
     ]
    },
    {
     "data": {
      "image/png": "[encoded data removed]",
      "text/plain": [
       "<matplotlib.figure.Figure at 0x7f78af20b160>"
      ]
     },
     "metadata": {},
     "output_type": "display_data"
    }
   ],
   "source": [
    "from scipy.special import expit \n",
    "sigmoid = expit\n",
    "x = np.arange(-5, 5, step=.1)\n",
    "plt.plot(x, sigmoid(x))\n",
    "\n",
    "# As a test, according to the exercise files, sigmoid(0) should be exactly 0.5. Also,for large positive values of x, \n",
    "# the sigmoid should be close to 1, while for large negative values, the sigmoid should be close to 0\n",
    "\n",
    "print('sigmoid(0) = {}, sigmoid(10000) = {}, and sigmoid(-10000) = {}'.format(sigmoid(0), \n",
    "                                                                              sigmoid(10000), sigmoid(-10000)))\n",
    "\n",
    "# hypothesis function for logistic regression  \n",
    "def h(X, theta):\n",
    "    return sigmoid(X * theta.T)"
   ]
  },
  {
   "cell_type": "markdown",
   "metadata": {
    "collapsed": true
   },
   "source": [
    "With that out of the picture, we can implement the cost function $ J(\\theta)$ and gradient for logistic regression."
   ]
  },
  {
   "cell_type": "code",
   "execution_count": 252,
   "metadata": {
    "collapsed": false
   },
   "outputs": [],
   "source": [
    "def cost(theta, X, y):\n",
    "    # Initialize some useful values\n",
    "    m = y.size  \n",
    "#     temp = np.multiply(-y.T, np.log(h(X, theta))) - np.multiply(1-y, np.log(1- h(X, theta)))\n",
    "    temp = -y.T * np.log(h(X, theta)) - (1-y.T) * np.log(1- h(X, theta))\n",
    "#     print('shape of temp', temp.shape)\n",
    "#     print('shape of h(X, theta)', h(X, theta).shape)\n",
    "    \n",
    "    return (temp / m) [0, 0]"
   ]
  },
  {
   "cell_type": "code",
   "execution_count": 253,
   "metadata": {
    "collapsed": false
   },
   "outputs": [
    {
     "name": "stdout",
     "output_type": "stream",
     "text": [
      "shape of y =  (100, 1)\n",
      "shape of matrix y =  (100, 1)\n",
      "shape of array theta =  (3,)\n",
      "shape of matrix theta =  (1, 3)\n"
     ]
    }
   ],
   "source": [
    "# Constructing X and assigning values \n",
    "data.insert(0, 'One', 1)\n",
    "X = data.iloc[:, 0: data.shape[1]-1]\n",
    "X = np.matrix(X)\n",
    "# print('shape of X = ', X.shape)\n",
    "y = data.iloc[:, data.shape[1]-1:data.shape[1]]\n",
    "print('shape of y = ', y.shape)\n",
    "y = np.matrix(y)\n",
    "\n",
    "print('shape of matrix y = ', y.shape)\n",
    "theta = np.zeros(3) \n",
    "print('shape of array theta = ', theta.shape)\n",
    "\n",
    "theta = np.matrix(theta)\n",
    "print('shape of matrix theta = ', theta.shape)\n",
    "\n",
    "# When converting from numpy array to matrix, a (3,) array becomes a 1 x 3 matrix. This is why when multiplying X and \n",
    "# theta in the definition of the hypothesis fucntion, we had to write X * theta.T rather than X * theta as stated in the\n",
    "# original formula"
   ]
  },
  {
   "cell_type": "code",
   "execution_count": 254,
   "metadata": {
    "collapsed": false
   },
   "outputs": [
    {
     "data": {
      "text/plain": [
       "0.69314718055994529"
      ]
     },
     "execution_count": 254,
     "metadata": {},
     "output_type": "execute_result"
    }
   ],
   "source": [
    "# With zero-initialized theta parameters, we are expected to get a cost of around 0.693\n",
    "cost(theta, X, y)  "
   ]
  },
  {
   "cell_type": "code",
   "execution_count": 255,
   "metadata": {
    "collapsed": false
   },
   "outputs": [],
   "source": [
    "def gradientDecent(theta, X, y, alpha):\n",
    "    error = h(X, theta) -y\n",
    "    k = theta - ((alpha/len(X)) * X.T * (error)).T\n",
    "    temp= (alpha/len(X)) * X.T * (error)\n",
    "\n",
    "    return k\n",
    "\n",
    "def gradient(theta, X, y):\n",
    "    theta = np.matrix(theta)\n",
    "    X = np.matrix(X)\n",
    "    y = np.matrix(y)\n",
    "\n",
    "    parameters = int(theta.ravel().shape[1])\n",
    "    grad = np.zeros(parameters)\n",
    "\n",
    "    error = sigmoid(X * theta.T) - y\n",
    "\n",
    "    for i in range(parameters):\n",
    "        term = np.multiply(error, X[:,i])\n",
    "        grad[i] = np.sum(term) / len(X)\n",
    "    return theta - 0.0005*grad"
   ]
  },
  {
   "cell_type": "code",
   "execution_count": 256,
   "metadata": {
    "collapsed": false
   },
   "outputs": [
    {
     "name": "stdout",
     "output_type": "stream",
     "text": [
      "0.69314718056\n",
      "0.6320080158\n",
      "0.631522937638\n",
      "0.631385153851\n",
      "0.631258459905\n",
      "0.631141611671\n",
      "0.631033827779\n",
      "0.63093438901\n",
      "0.630842633172\n",
      "0.630757950607\n",
      "0.630679780044\n",
      "0.63060760478\n",
      "0.630540949148\n",
      "0.630479375272\n",
      "0.630422480067\n",
      "0.630369892476\n",
      "0.630321270931\n",
      "0.630276301007\n",
      "0.630234693265\n",
      "0.630196181261\n",
      "0.630160519723\n",
      "0.630127482861\n",
      "0.630096862819\n",
      "0.630068468246\n",
      "0.630042122983\n",
      "0.630017664855\n",
      "0.629994944556\n",
      "0.629973824626\n",
      "0.629954178509\n",
      "0.629935889684\n",
      "0.629918850869\n",
      "0.629902963282\n",
      "0.62988813597\n",
      "0.629874285187\n",
      "0.629861333815\n",
      "0.629849210844\n",
      "0.629837850885\n",
      "0.629827193721\n",
      "0.629817183901\n",
      "0.62980777036\n",
      "0.629798906067\n",
      "0.629790547713\n",
      "0.62978265541\n",
      "0.62977519242\n",
      "0.629768124909\n",
      "0.629761421715\n",
      "0.629755054135\n",
      "0.629748995733\n",
      "0.629743222159\n",
      "0.629737710984\n"
     ]
    }
   ],
   "source": [
    "alpha = 0.0005\n",
    "\n",
    "for i in range(50):\n",
    "    print(cost(theta, X, y))  \n",
    "    thetaOn = gradient(theta, X, y)\n",
    "    \n",
    "    theta = gradientDecent(theta, X, y,alpha)\n"
   ]
  },
  {
   "cell_type": "code",
   "execution_count": null,
   "metadata": {
    "collapsed": true
   },
   "outputs": [],
   "source": []
  }
 ],
 "metadata": {
  "anaconda-cloud": {},
  "kernelspec": {
   "display_name": "Python [conda root]",
   "language": "python",
   "name": "conda-root-py"
  },
  "language_info": {
   "codemirror_mode": {
    "name": "ipython",
    "version": 3
   },
   "file_extension": ".py",
   "mimetype": "text/x-python",
   "name": "python",
   "nbconvert_exporter": "python",
   "pygments_lexer": "ipython3",
   "version": "3.5.2"
  }
 },
 "nbformat": 4,
 "nbformat_minor": 1
}
